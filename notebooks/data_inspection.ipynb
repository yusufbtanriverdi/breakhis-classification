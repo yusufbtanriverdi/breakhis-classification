{
 "cells": [
  {
   "cell_type": "code",
   "execution_count": 2,
   "metadata": {},
   "outputs": [],
   "source": [
    "from torchvision.datasets import ImageFolder\n",
    "import os\n",
    "from torch.utils.data import Dataset, DataLoader\n",
    "from torchvision.datasets import ImageFolder\n",
    "\n",
    "data_dir = 'D:\\\\BreaKHis_v1\\\\'"
   ]
  },
  {
   "cell_type": "code",
   "execution_count": 12,
   "metadata": {},
   "outputs": [
    {
     "data": {
      "text/plain": [
       "(array([0, 1]), {'benign': 0, 'malignant': 1})"
      ]
     },
     "execution_count": 12,
     "metadata": {},
     "output_type": "execute_result"
    }
   ],
   "source": [
    "import numpy as np \n",
    "torch_dataset = ImageFolder(os.path.join(data_dir))\n",
    "np.unique(torch_dataset.targets), torch_dataset.class_to_idx"
   ]
  },
  {
   "cell_type": "code",
   "execution_count": 4,
   "metadata": {},
   "outputs": [],
   "source": [
    "import glob\n",
    "import cv2\n",
    "import numpy as np\n",
    "\n",
    "benign_40x = data_dir + 'benign\\\\*\\\\*\\\\*\\\\40X\\\\*.png'\n",
    "malign_40x = data_dir + 'malignant\\\\*\\\\*\\\\*\\\\40X\\\\*.png'\n",
    "\n",
    "benign_40x_im_stack = np.array([cv2.imread(filepath) for filepath in glob.glob(benign_40x)], dtype=np.uint8)"
   ]
  },
  {
   "cell_type": "code",
   "execution_count": 5,
   "metadata": {},
   "outputs": [
    {
     "data": {
      "text/plain": [
       "((625, 460, 700, 3), 625)"
      ]
     },
     "execution_count": 5,
     "metadata": {},
     "output_type": "execute_result"
    }
   ],
   "source": [
    "benign_40x_im_stack.shape, len(glob.glob(benign_40x))"
   ]
  },
  {
   "cell_type": "code",
   "execution_count": 15,
   "metadata": {},
   "outputs": [],
   "source": [
    "malign_40x_im_stack = [cv2.imread(filepath) for filepath in glob.glob(malign_40x)]"
   ]
  },
  {
   "cell_type": "code",
   "execution_count": 17,
   "metadata": {},
   "outputs": [],
   "source": [
    "im_sizes = []\n",
    "tmp = []\n",
    "for im in malign_40x_im_stack:\n",
    "    if np.array(im).shape not in im_sizes:\n",
    "        im_sizes.append(im.shape)\n",
    "    if np.array(im).shape != (700, 456, 3):\n",
    "        im = cv2.resize(im, (700, 456))\n",
    "    tmp.append(im)\n"
   ]
  },
  {
   "cell_type": "code",
   "execution_count": 18,
   "metadata": {},
   "outputs": [
    {
     "data": {
      "text/plain": [
       "((460, 700, 3), [(460, 700, 3), (456, 700, 3)], (456, 700, 3))"
      ]
     },
     "execution_count": 18,
     "metadata": {},
     "output_type": "execute_result"
    }
   ],
   "source": [
    "malign_40x_im_stack[0].shape, im_sizes, tmp[0].shape"
   ]
  },
  {
   "cell_type": "code",
   "execution_count": 19,
   "metadata": {},
   "outputs": [],
   "source": [
    "malign_40x_im_stack = np.array(tmp, dtype=np.uint8)"
   ]
  },
  {
   "cell_type": "code",
   "execution_count": 36,
   "metadata": {},
   "outputs": [
    {
     "data": {
      "text/plain": [
       "(1995,)"
      ]
     },
     "execution_count": 36,
     "metadata": {},
     "output_type": "execute_result"
    }
   ],
   "source": [
    "benign_40x_im_pair =[(im, 0) for im in benign_40x_im_stack]\n",
    "malign_40x_im_pair =[(im, 1) for im in malign_40x_im_stack]\n",
    "\n",
    "pairs = np.concatenate([benign_40x_im_pair, malign_40x_im_pair])\n",
    "np.random.shuffle(pairs)\n",
    "pairs[:, 0].shape"
   ]
  },
  {
   "cell_type": "code",
   "execution_count": 37,
   "metadata": {},
   "outputs": [],
   "source": [
    "class BreaKHis(Dataset):\n",
    "    def __init__(self, pairs):\n",
    "        super(BreaKHis, self).__init__()\n",
    "        self.images = pairs[:, 0]\n",
    "        self.labels = pairs[:, 1]\n",
    "\n",
    "    def __len__(self):\n",
    "        return len(self.img_list)\n",
    "\n",
    "    def __getitem__(self, idx):\n",
    "        img = self.images[idx]\n",
    "        lab = self.labels[idx]\n",
    "        return img, lab\n",
    "  "
   ]
  },
  {
   "cell_type": "code",
   "execution_count": 39,
   "metadata": {},
   "outputs": [],
   "source": [
    "dset = BreaKHis(pairs)"
   ]
  },
  {
   "cell_type": "code",
   "execution_count": 43,
   "metadata": {},
   "outputs": [
    {
     "data": {
      "text/plain": [
       "array([1, 1, 1, ..., 1, 1, 0], dtype=object)"
      ]
     },
     "execution_count": 43,
     "metadata": {},
     "output_type": "execute_result"
    }
   ],
   "source": [
    "dset.labels"
   ]
  },
  {
   "cell_type": "code",
   "execution_count": 44,
   "metadata": {},
   "outputs": [],
   "source": [
    "train_loader = DataLoader(\n",
    "    BreaKHis(pairs), )"
   ]
  },
  {
   "cell_type": "code",
   "execution_count": 47,
   "metadata": {},
   "outputs": [
    {
     "data": {
      "text/plain": [
       "1"
      ]
     },
     "execution_count": 47,
     "metadata": {},
     "output_type": "execute_result"
    }
   ],
   "source": [
    "train_loader.batch_size"
   ]
  },
  {
   "cell_type": "code",
   "execution_count": 48,
   "metadata": {},
   "outputs": [
    {
     "data": {
      "text/plain": [
       "((456, 700, 3), (460, 700, 3))"
      ]
     },
     "execution_count": 48,
     "metadata": {},
     "output_type": "execute_result"
    }
   ],
   "source": [
    "malign_40x_im_stack[0].shape, benign_40x_im_stack[0].shape"
   ]
  },
  {
   "cell_type": "code",
   "execution_count": null,
   "metadata": {},
   "outputs": [],
   "source": []
  }
 ],
 "metadata": {
  "kernelspec": {
   "display_name": "mldl",
   "language": "python",
   "name": "python3"
  },
  "language_info": {
   "codemirror_mode": {
    "name": "ipython",
    "version": 3
   },
   "file_extension": ".py",
   "mimetype": "text/x-python",
   "name": "python",
   "nbconvert_exporter": "python",
   "pygments_lexer": "ipython3",
   "version": "3.8.16"
  },
  "orig_nbformat": 4
 },
 "nbformat": 4,
 "nbformat_minor": 2
}
